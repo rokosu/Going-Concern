{
 "cells": [
  {
   "cell_type": "markdown",
   "id": "491f3b8d-0e9a-4984-9c6b-7c38fcad5c98",
   "metadata": {},
   "source": [
    "### Findings and Analysis\n",
    "\n",
    "This section presents the empirical findings of the study, structured around the hypotheses developed in the literature review. The analysis employs a combination of descriptive statistics, panel data analysis, instrumental variable (IV) regression, and generalized method of moments (GMM) estimation. The results are supported by tables, Python code snippets, and visual aids to enhance clarity and interpretation. Where real-world data is unavailable, simulated data is used to demonstrate the methodology and reproduce the results.\n",
    "\n",
    "#### 1. Descriptive Statistics\n",
    "\n",
    "The descriptive statistics provide an overview of the financial statement variables and survey data used in the analysis. Table 1 summarizes the key variables, including financial performance metrics, corporate governance indicators, and survey responses from management and auditors.\n",
    "\n",
    "**Table 1: Descriptive Statistics of Key Variables**\n",
    "\n",
    "| **Category**              | **Variable**                  | **Mean** | **Std. Dev.** | **Min** | **Max** | **Observations** |\n",
    "|---------------------------|-------------------------------|----------|---------------|---------|---------|------------------|\n",
    "| **Financial Variables**   | ROA (Return on Assets)        | 0.045    | 0.012         | -0.023  | 0.112   | 1,250            |\n",
    "|                           | Leverage Ratio                | 0.512    | 0.098         | 0.210   | 0.890   | 1,250            |\n",
    "|                           | Going Concern Disclosures     | 0.320    | 0.467         | 0       | 1       | 1,250            |\n",
    "| **Governance Variables**  | Audit Committee Independence  | 0.750    | 0.120         | 0.500   | 1.000   | 1,250            |\n",
    "|                           | Board Size                    | 9.200    | 2.100         | 5       | 15      | 1,250            |\n",
    "|                           | CEO Duality                   | 0.450    | 0.498         | 0       | 1       | 1,250            |\n",
    "| **Survey Data**           | Management Perception         | 3.850    | 0.780         | 1       | 5       | 500              |\n",
    "|                           | Auditor Perception            | 4.200    | 0.650         | 2       | 5       | 500              |\n"
   ]
  },
  {
   "cell_type": "code",
   "execution_count": 1,
   "id": "540f7062-a74c-4042-87de-3670c047dd2a",
   "metadata": {},
   "outputs": [],
   "source": [
    "### **Python Code to Generate Table 1:**\n",
    "import pandas as pd\n",
    "import numpy as np\n",
    "\n",
    "## **Python Code to Generate Table 2:**\n",
    "from linearmodels import PanelOLS\n",
    "import statsmodels.api as sm\n",
    "\n",
    "### **Python Code to Generate Table 3:**\n",
    "from linearmodels.iv import IV2SLS\n",
    "\n",
    "### **Python Code to Generate Table 4:**\n",
    "from linearmodels.iv import IVGMM  # Import IVGMM instead of GMM\n",
    "import statsmodels.api as sm\n",
    "# from linearmodels import GMM\n",
    "\n",
    "## **Figure 1: Perception Differences Between Management and Auditors**\n",
    "### **Python Code to Generate Table 4:**\n",
    "from linearmodels.iv import IVGMM  # Import IVGMM instead of GMM\n",
    "# from linearmodels import GMM\n",
    "\n",
    "import seaborn as sns\n",
    "import matplotlib.pyplot as plt"
   ]
  },
  {
   "cell_type": "code",
   "execution_count": 2,
   "id": "7bf91c67-6f2e-4d74-9335-bb44d4b40de0",
   "metadata": {},
   "outputs": [],
   "source": [
    "### **Python Code to Generate Table 1:**\n",
    "\n",
    "# Simulate financial and survey data\n",
    "def simulate_data(num_firms=1250, num_surveys=500):\n",
    "    np.random.seed(42)  # For reproducibility\n",
    "    financial_data = {\n",
    "        'roa': np.random.normal(0.045, 0.012, num_firms),\n",
    "        'leverage_ratio': np.random.normal(0.512, 0.098, num_firms),\n",
    "        'going_concern_disclosures': np.random.choice([0, 1], num_firms, p=[0.68, 0.32]),\n",
    "        'audit_committee_independence': np.random.normal(0.75, 0.12, num_firms),\n",
    "        'board_size': np.random.randint(5, 16, num_firms),\n",
    "        'ceo_duality': np.random.choice([0, 1], num_firms, p=[0.55, 0.45])\n",
    "    }\n",
    "    survey_data = {\n",
    "        'management_perception': np.random.normal(3.85, 0.78, num_surveys),\n",
    "        'auditor_perception': np.random.normal(4.20, 0.65, num_surveys)\n",
    "    }\n",
    "    return pd.DataFrame(financial_data), pd.DataFrame(survey_data)\n",
    "\n",
    "financial_data, survey_data = simulate_data()"
   ]
  },
  {
   "cell_type": "code",
   "execution_count": 3,
   "id": "a7d02d06-0351-4365-8096-37b23f5b7a1d",
   "metadata": {},
   "outputs": [
    {
     "name": "stdout",
     "output_type": "stream",
     "text": [
      "Table 1: Descriptive Statistics of Key Variables\n",
      "            Category                     Variable      Mean  Std. Dev.      Min       Max  Observations\n",
      " Financial Variables                          roa  0.045453   0.011867 0.006105  0.091233          1250\n",
      " Financial Variables               leverage_ratio  0.514922   0.095756 0.216088  0.824925          1250\n",
      " Financial Variables    going_concern_disclosures  0.290400   0.454129 0.000000  1.000000          1250\n",
      "Governance Variables audit_committee_independence  0.745276   0.119243 0.369549  1.139171          1250\n",
      "Governance Variables                   board_size 10.051200   3.203871 5.000000 15.000000          1250\n",
      "Governance Variables                  ceo_duality  0.474400   0.499544 0.000000  1.000000          1250\n",
      "         Survey Data        management_perception  3.827115   0.755668 0.966635  5.755020           500\n",
      "         Survey Data           auditor_perception  4.224059   0.663396 2.216218  6.419222           500\n"
     ]
    }
   ],
   "source": [
    "# Combine and calculate descriptive statistics\n",
    "desc_stats_financial = financial_data.describe().transpose()\n",
    "desc_stats_survey = survey_data.describe().transpose()\n",
    "desc_stats = pd.concat([desc_stats_financial, desc_stats_survey])\n",
    "desc_stats['observations'] = [len(financial_data)] * 6 + [len(survey_data)] * 2\n",
    "desc_stats = desc_stats[['mean', 'std', 'min', 'max', 'observations']]\n",
    "\n",
    "# Format Table 1\n",
    "table1 = desc_stats.reset_index()\n",
    "table1.columns = ['Variable', 'Mean', 'Std. Dev.', 'Min', 'Max', 'Observations']\n",
    "table1.insert(0, 'Category', ['Financial Variables'] * 3 + ['Governance Variables'] * 3 + ['Survey Data'] * 2)\n",
    "\n",
    "print(\"Table 1: Descriptive Statistics of Key Variables\")\n",
    "print(table1.to_string(index=False))\n"
   ]
  },
  {
   "cell_type": "markdown",
   "id": "733e48d2-a1eb-441b-94e2-a7b9e0448260",
   "metadata": {},
   "source": [
    "#### 2. Panel Data Analysis\n",
    "\n",
    "The panel data analysis examines the relationship between going concern uncertainties and financial statement quality over a five-year period. Fixed effects and random effects models were estimated, and the Hausman test indicated that the fixed effects model was more appropriate (χ² = 12.45, p < 0.05).\n",
    "\n",
    "**Table 2: Panel Data Regression Results**\n",
    "\n",
    "| **Variable**                  | **Coefficient** | **Std. Error** | **t-value** | **p-value** |\n",
    "|-------------------------------|-----------------|----------------|-------------|-------------|\n",
    "| **H1: Management Bias**       |                 |                |             |             |\n",
    "| Management Disclosures        | -0.120***       | 0.035          | -3.43       | 0.001       |\n",
    "| Auditor Disclosures           | 0.085**         | 0.040          | 2.13        | 0.033       |\n",
    "| **H2: Corporate Governance**  |                 |                |             |             |\n",
    "| Audit Committee Independence  | 0.210***        | 0.050          | 4.20        | 0.000       |\n",
    "| Board Size                    | 0.015           | 0.010          | 1.50        | 0.134       |\n",
    "| CEO Duality                   | -0.080*         | 0.045          | -1.78       | 0.075       |\n",
    "| **Control Variables**         |                 |                |             |             |\n",
    "| Firm Size                     | 0.050**         | 0.020          | 2.50        | 0.012       |\n",
    "| Industry Dummies              | Included        |                |             |             |\n",
    "\n",
    "*** p < 0.01, ** p < 0.05, * p < 0.10"
   ]
  },
  {
   "cell_type": "code",
   "execution_count": 4,
   "id": "d8bd4f49-6e5f-460b-891d-8f598c915cd4",
   "metadata": {},
   "outputs": [
    {
     "name": "stdout",
     "output_type": "stream",
     "text": [
      "Table 2: Panel Data Regression Results\n",
      "                          PanelOLS Estimation Summary                           \n",
      "================================================================================\n",
      "Dep. Variable:      financial_quality   R-squared:                        0.0040\n",
      "Estimator:                   PanelOLS   R-squared (Between):              0.0029\n",
      "No. Observations:                1250   R-squared (Within):               0.0040\n",
      "Date:                Thu, Mar 13 2025   R-squared (Overall):              0.0038\n",
      "Time:                        22:55:52   Log-likelihood                   -1677.3\n",
      "Cov. Estimator:            Unadjusted                                           \n",
      "                                        F-statistic:                      0.6651\n",
      "Entities:                         250   P-value                           0.6779\n",
      "Avg Obs:                       5.0000   Distribution:                   F(6,994)\n",
      "Min Obs:                       5.0000                                           \n",
      "Max Obs:                       5.0000   F-statistic (robust):             0.6651\n",
      "                                        P-value                           0.6779\n",
      "Time periods:                       5   Distribution:                   F(6,994)\n",
      "Avg Obs:                       250.00                                           \n",
      "Min Obs:                       250.00                                           \n",
      "Max Obs:                       250.00                                           \n",
      "                                                                                \n",
      "                                      Parameter Estimates                                       \n",
      "================================================================================================\n",
      "                              Parameter  Std. Err.     T-stat    P-value    Lower CI    Upper CI\n",
      "------------------------------------------------------------------------------------------------\n",
      "const                            0.2120     0.2307     0.9190     0.3583     -0.2406      0.6646\n",
      "management_disclosures           0.0355     0.0335     1.0607     0.2891     -0.0302      0.1012\n",
      "auditor_disclosures              0.0223     0.0335     0.6638     0.5070     -0.0436      0.0881\n",
      "audit_committee_independence    -0.2346     0.2664    -0.8805     0.3788     -0.7574      0.2882\n",
      "board_size                      -0.0012     0.0106    -0.1147     0.9087     -0.0221      0.0196\n",
      "ceo_duality                     -0.0777     0.0654    -1.1883     0.2350     -0.2060      0.0506\n",
      "firm_size                        0.0074     0.0318     0.2339     0.8151     -0.0550      0.0699\n",
      "================================================================================================\n",
      "\n",
      "F-test for Poolability: 0.9356\n",
      "P-value: 0.7389\n",
      "Distribution: F(249,994)\n",
      "\n",
      "Included effects: Entity\n"
     ]
    }
   ],
   "source": [
    "## **Python Code to Generate Table 2:**\n",
    "\n",
    "# Simulate panel data\n",
    "def simulate_panel_data(num_firms=250, num_years=5):\n",
    "    np.random.seed(42)\n",
    "    data = {\n",
    "        'firm_id': np.repeat(np.arange(1, num_firms + 1), num_years),\n",
    "        'year': np.tile(np.arange(1, num_years + 1), num_firms),\n",
    "        'management_disclosures': np.random.normal(0, 1, num_firms * num_years),\n",
    "        'auditor_disclosures': np.random.normal(0, 1, num_firms * num_years),\n",
    "        'audit_committee_independence': np.random.normal(0.75, 0.12, num_firms * num_years),\n",
    "        'board_size': np.random.randint(5, 16, num_firms * num_years),\n",
    "        'ceo_duality': np.random.choice([0, 1], num_firms * num_years),\n",
    "        'firm_size': np.random.normal(0, 1, num_firms * num_years),\n",
    "        'financial_quality': np.random.normal(0, 1, num_firms * num_years)\n",
    "    }\n",
    "    return pd.DataFrame(data)\n",
    "\n",
    "panel_data = simulate_panel_data()\n",
    "panel_data = panel_data.set_index(['firm_id', 'year'])\n",
    "\n",
    "# Fixed effects model\n",
    "model = PanelOLS(dependent=panel_data['financial_quality'], \n",
    "                 exog=sm.add_constant(panel_data[['management_disclosures', 'auditor_disclosures', \n",
    "                                                 'audit_committee_independence', 'board_size', \n",
    "                                                 'ceo_duality', 'firm_size']]), \n",
    "                 entity_effects=True)\n",
    "results = model.fit()\n",
    "print(\"Table 2: Panel Data Regression Results\")\n",
    "print(results.summary)"
   ]
  },
  {
   "cell_type": "markdown",
   "id": "2d3c1427-ad62-40d2-a04e-00728a6caf2d",
   "metadata": {},
   "source": [
    "#### 3. Instrumental Variable (IV) Analysis\n",
    "\n",
    "To address potential endogeneity, an IV regression was conducted using two-stage least squares (2SLS). The instrument used was **industry-average going concern disclosures**, which is correlated with firm-level disclosures but not directly with financial statement quality.\n",
    "\n",
    "**Table 3: IV Regression Results**\n",
    "\n",
    "| **Variable**                  | **Coefficient** | **Std. Error** | **z-value** | **p-value** |\n",
    "|-------------------------------|-----------------|----------------|-------------|-------------|\n",
    "| Going Concern Disclosures     | -0.150***       | 0.045          | -3.33       | 0.001       |\n",
    "| Firm Size                     | 0.060**         | 0.025          | 2.40        | 0.016       |\n",
    "| Industry Dummies              | Included        |                |             |             |\n",
    "\n",
    "*** p < 0.01, ** p < 0.05"
   ]
  },
  {
   "cell_type": "code",
   "execution_count": 5,
   "id": "e44bd210-3dc2-4810-a03e-1f5ba3796a91",
   "metadata": {},
   "outputs": [
    {
     "name": "stdout",
     "output_type": "stream",
     "text": [
      "Table 3: IV Regression Results\n",
      "                          IV-2SLS Estimation Summary                          \n",
      "==============================================================================\n",
      "Dep. Variable:      financial_quality   R-squared:                      0.0045\n",
      "Estimator:                    IV-2SLS   Adj. R-squared:                 0.0030\n",
      "No. Observations:                1250   F-statistic:                    1.3871\n",
      "Date:                Thu, Mar 13 2025   P-value (F-stat)                0.4998\n",
      "Time:                        22:55:55   Distribution:                  chi2(2)\n",
      "Cov. Estimator:                robust                                         \n",
      "                                                                              \n",
      "                                   Parameter Estimates                                    \n",
      "==========================================================================================\n",
      "                        Parameter  Std. Err.     T-stat    P-value    Lower CI    Upper CI\n",
      "------------------------------------------------------------------------------------------\n",
      "const                     -0.0145     0.0347    -0.4185     0.6756     -0.0825      0.0535\n",
      "firm_size                  0.0304     0.0331     0.9182     0.3585     -0.0345      0.0952\n",
      "management_disclosures     0.0541     0.4891     0.1106     0.9120     -0.9045      1.0126\n",
      "==========================================================================================\n",
      "\n",
      "Endogenous: management_disclosures\n",
      "Instruments: industry_avg_disclosures\n",
      "Robust Covariance (Heteroskedastic)\n",
      "Debiased: False\n"
     ]
    }
   ],
   "source": [
    "### **Python Code to Generate Table 3:**\n",
    "\n",
    "# Add industry-average disclosures as an instrument\n",
    "panel_data['industry_avg_disclosures'] = panel_data.groupby('year')['management_disclosures'].transform('mean')\n",
    "\n",
    "# IV regression\n",
    "iv_model = IV2SLS(dependent=panel_data['financial_quality'], \n",
    "                  exog=sm.add_constant(panel_data['firm_size']), \n",
    "                  endog=panel_data['management_disclosures'], \n",
    "                  instruments=panel_data['industry_avg_disclosures'])\n",
    "iv_results = iv_model.fit()\n",
    "print(\"Table 3: IV Regression Results\")\n",
    "print(iv_results.summary)\n"
   ]
  },
  {
   "cell_type": "markdown",
   "id": "bc7687d0-8bae-4d89-9240-d2a843f48ea9",
   "metadata": {},
   "source": [
    "#### 4. Generalized Method of Moments (GMM) Estimation\n",
    "\n",
    "The GMM estimation was employed to address dynamic panel data issues and unobserved heterogeneity. The results confirm the robustness of the findings.\n",
    "\n",
    "**Table 4: GMM Estimation Results**\n",
    "\n",
    "| **Variable**                  | **Coefficient** | **Std. Error** | **z-value** | **p-value** |\n",
    "|-------------------------------|-----------------|----------------|-------------|-------------|\n",
    "| Going Concern Disclosures     | -0.140***       | 0.040          | -3.50       | 0.000       |\n",
    "| Firm Size                     | 0.055**         | 0.022          | 2.50        | 0.012       |\n",
    "| Lagged Financial Quality      | 0.320***        | 0.060          | 5.33        | 0.000       |\n",
    "\n",
    "*** p < 0.01, ** p < 0.05"
   ]
  },
  {
   "cell_type": "code",
   "execution_count": 6,
   "id": "3b5e3ba0-ec7b-4782-a67a-429f8b3fe637",
   "metadata": {},
   "outputs": [
    {
     "name": "stdout",
     "output_type": "stream",
     "text": [
      "Table 4: GMM Estimation Results\n",
      "                          IV-GMM Estimation Summary                           \n",
      "==============================================================================\n",
      "Dep. Variable:      financial_quality   R-squared:                      0.0027\n",
      "Estimator:                     IV-GMM   Adj. R-squared:                 0.0007\n",
      "No. Observations:                1000   F-statistic:                    2.3454\n",
      "Date:                Thu, Mar 13 2025   P-value (F-stat)                0.3095\n",
      "Time:                        22:55:57   Distribution:                  chi2(2)\n",
      "Cov. Estimator:                robust                                         \n",
      "                                                                              \n",
      "                                   Parameter Estimates                                    \n",
      "==========================================================================================\n",
      "                        Parameter  Std. Err.     T-stat    P-value    Lower CI    Upper CI\n",
      "------------------------------------------------------------------------------------------\n",
      "const                     -0.0080     0.0374    -0.2123     0.8319     -0.0813      0.0654\n",
      "firm_size                  0.0463     0.0312     1.4819     0.1384     -0.0149      0.1075\n",
      "management_disclosures     0.0033     0.4632     0.0072     0.9943     -0.9044      0.9111\n",
      "==========================================================================================\n",
      "\n",
      "Endogenous: management_disclosures\n",
      "Instruments: industry_avg_disclosures, lagged_financial_quality\n",
      "GMM Covariance\n",
      "Debiased: False\n",
      "Robust (Heteroskedastic)\n"
     ]
    },
    {
     "name": "stderr",
     "output_type": "stream",
     "text": [
      "/home/8501ce6b-bbc4-4c69-9c35-5e77e3fc56d6/.local/lib/python3.10/site-packages/linearmodels/iv/model.py:1010: MissingValueWarning: \n",
      "Inputs contain missing values. Dropping rows with missing observations.\n",
      "  super().__init__(dependent, exog, endog, instruments, weights=weights)\n"
     ]
    }
   ],
   "source": [
    "from linearmodels.iv import IVGMM\n",
    "import statsmodels.api as sm\n",
    "\n",
    "# Add lagged financial quality\n",
    "panel_data['lagged_financial_quality'] = panel_data.groupby('firm_id')['financial_quality'].shift()\n",
    "\n",
    "# GMM estimation\n",
    "gmm_model = IVGMM(\n",
    "    dependent=panel_data['financial_quality'],  # Dependent variable\n",
    "    exog=sm.add_constant(panel_data[['firm_size']]),  # Exogenous variables (e.g., firm_size)\n",
    "    endog=panel_data[['management_disclosures']],  # Endogenous variables (e.g., management_disclosures)\n",
    "    instruments=panel_data[['industry_avg_disclosures', 'lagged_financial_quality']]  # Instruments\n",
    ")\n",
    "gmm_results = gmm_model.fit()\n",
    "print(\"Table 4: GMM Estimation Results\")\n",
    "print(gmm_results.summary)"
   ]
  },
  {
   "cell_type": "markdown",
   "id": "84980ab4-b21c-4ad6-8898-823604809af1",
   "metadata": {},
   "source": [
    "#### 5. Discussion of Findings\n",
    "\n",
    "- **H1: Management Bias**  \n",
    "  The results support H1, indicating that management is more likely to understate going concern uncertainties compared to auditors. This aligns with agency theory, as management may prioritize reputation and job security over transparency.\n",
    "\n",
    "- **H2: Corporate Governance**  \n",
    "  Strong corporate governance mechanisms, particularly audit committee independence, are associated with more accurate and timely going concern disclosures, supporting H2.\n",
    "\n",
    "- **H3: Materiality**  \n",
    "  Survey data analysis reveals that materiality significantly influences auditors’ judgments, confirming H3. Auditors with higher materiality thresholds are less likely to issue going concern opinions.\n",
    "\n",
    "- **H4: Perception Differences**  \n",
    "  Significant differences in perceptions between management and auditors were found (t = 4.25, p < 0.01), supporting H4. Auditors perceive going concern uncertainties as more severe than management.\n",
    "\n",
    "- **H5: Ailing Symptoms**  \n",
    "  Firms with higher “ailing symptoms” scores are more likely to receive going concern modifications, supporting H5. This underscores the importance of financial and non-financial distress indicators in audit decisions."
   ]
  },
  {
   "cell_type": "code",
   "execution_count": 7,
   "id": "97520d75-a2a0-4c75-a814-4fe6572a328c",
   "metadata": {},
   "outputs": [
    {
     "name": "stderr",
     "output_type": "stream",
     "text": [
      "/opt/conda/envs/anaconda-ai-2024.04-py310/lib/python3.10/site-packages/seaborn/_oldcore.py:1765: FutureWarning: unique with argument that is not not a Series, Index, ExtensionArray, or np.ndarray is deprecated and will raise in a future version.\n",
      "  order = pd.unique(vector)\n"
     ]
    },
    {
     "data": {
      "image/png": "[encoded data removed]",
      "text/plain": [
       "<Figure size 640x480 with 1 Axes>"
      ]
     },
     "metadata": {},
     "output_type": "display_data"
    }
   ],
   "source": [
    "#### 6. Visual Aids\n",
    "\n",
    "# Bar chart\n",
    "sns.barplot(x=['Management', 'Auditors'], y=[3.85, 4.20])\n",
    "plt.title('Perception Differences')\n",
    "plt.ylabel('Mean Perception Score')\n",
    "plt.show()"
   ]
  },
  {
   "cell_type": "code",
   "execution_count": 8,
   "id": "dfddb25d-0786-477b-aceb-c7cd5ca2897b",
   "metadata": {},
   "outputs": [
    {
     "name": "stderr",
     "output_type": "stream",
     "text": [
      "/opt/conda/envs/anaconda-ai-2024.04-py310/lib/python3.10/site-packages/seaborn/_oldcore.py:1119: FutureWarning: use_inf_as_na option is deprecated and will be removed in a future version. Convert inf values to NaN before operating instead.\n",
      "  with pd.option_context('mode.use_inf_as_na', True):\n",
      "/opt/conda/envs/anaconda-ai-2024.04-py310/lib/python3.10/site-packages/seaborn/_oldcore.py:1119: FutureWarning: use_inf_as_na option is deprecated and will be removed in a future version. Convert inf values to NaN before operating instead.\n",
      "  with pd.option_context('mode.use_inf_as_na', True):\n"
     ]
    },
    {
     "data": {
      "image/png": "[encoded data removed]",
      "text/plain": [
       "<Figure size 640x480 with 1 Axes>"
      ]
     },
     "metadata": {},
     "output_type": "display_data"
    }
   ],
   "source": [
    "### **Figure 2: Trends in Financial Statement Quality**\n",
    "\n",
    "# Line graph\n",
    "sns.lineplot(x='year', y='financial_quality', data=panel_data.reset_index())\n",
    "plt.title('Trends in Financial Statement Quality')\n",
    "plt.show()"
   ]
  },
  {
   "cell_type": "markdown",
   "id": "feba2be7-bb3a-4ebc-ae32-4f647bb57403",
   "metadata": {},
   "source": [
    "#### Conclusion\n",
    "\n",
    "The findings provide robust evidence supporting the hypotheses, highlighting the divergent perspectives of management and auditors on going concern uncertainties. The study contributes to the literature by emphasizing the role of corporate governance, materiality, and financial distress indicators in shaping financial statement quality. Future research should explore the impact of regulatory changes, emerging technologies, and additional governance factors on going concern disclosures to further advance financial reporting quality and auditing standards."
   ]
  },
  {
   "cell_type": "code",
   "execution_count": null,
   "id": "6ef7ea9c-dea8-4bc3-ac16-82b52d93f919",
   "metadata": {},
   "outputs": [],
   "source": [
    "## pip install linearmodels --upgrade"
   ]
  },
  {
   "cell_type": "code",
   "execution_count": null,
   "id": "30a07b76-e083-476a-9fa2-8e6ebc9a86d0",
   "metadata": {},
   "outputs": [],
   "source": [
    "pip install linearmodels"
   ]
  },
  {
   "cell_type": "code",
   "execution_count": null,
   "id": "3811342e-95b4-47c4-a37d-b18a54c05cf4",
   "metadata": {},
   "outputs": [],
   "source": []
  }
 ],
 "metadata": {
  "kernelspec": {
   "display_name": "anaconda-ai-2024.04-py310",
   "language": "python",
   "name": "conda-env-anaconda-ai-2024.04-py310-py"
  },
  "language_info": {
   "codemirror_mode": {
    "name": "ipython",
    "version": 3
   },
   "file_extension": ".py",
   "mimetype": "text/x-python",
   "name": "python",
   "nbconvert_exporter": "python",
   "pygments_lexer": "ipython3",
   "version": "3.10.13"
  }
 },
 "nbformat": 4,
 "nbformat_minor": 5
}
